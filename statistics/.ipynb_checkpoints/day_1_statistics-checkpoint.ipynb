{
 "cells": [
  {
   "cell_type": "markdown",
   "metadata": {},
   "source": [
    "### Standard Deviation\n",
    "#### Objective\n",
    "In this challenge, we practice calculating standard deviation. Check out the Tutorial tab for learning materials and an instructional video!\n",
    "\n",
    "#### Task\n",
    "Given an array,```X``` , of ```N``` integers, calculate and print the standard deviation. Your answer should be in decimal form, rounded to a scale of **1** decimal place (i.e.,**12.3**  format). An error margin of **+-1** will be tolerated for the standard deviation.\n",
    "\n",
    "#### Input Format\n",
    "\n",
    "The first line contains an integer, ```N```, denoting the number of elements in the array.<br>\n",
    "The second line contains ```N``` space-separated integers describing the respective elements of the array.<br>\n",
    "\n",
    "#### Output Format\n",
    "\n",
    "Print the standard deviation on a new line, rounded to a scale of **1** decimal place (i.e.,  format)."
   ]
  },
  {
   "cell_type": "code",
   "execution_count": null,
   "metadata": {},
   "outputs": [],
   "source": [
    "if __name__ == '__main__':\n",
    "    n = int(input())\n",
    "    x = list(map(int, input().split()))\n",
    "    \n",
    "#std_dev = (sum( i - m)^2/n) ** (1/2) \n",
    "x_mean = sum(x)/n\n",
    "sqd_mean = [(i - x_mean) ** 2 for i in x]\n",
    "std_dev = (sum(sqd_mean)/ n) ** (1/2)\n",
    "print('%.1f' % std_dev)   "
   ]
  },
  {
   "cell_type": "markdown",
   "metadata": {},
   "source": [
    "### Quartile\n",
    "#### Objective\n",
    "In this challenge, we practice calculating quartiles. Check out the Tutorial tab for learning materials and an instructional video!\n",
    "\n",
    "#### Task\n",
    "Given an array, ```X``` , of ```n``` integers, calculate the respective first quartile (```Q1```), second quartile (```Q2```), and third quartile (```Q3```). It is guaranteed that ```Q1```,```Q2``` , and ```Q3``` are integers.\n",
    "\n",
    "#### Input Format\n",
    "\n",
    "The first line contains an integer,```n```, denoting the number of elements in the array.<br>\n",
    "The second line contains ```n``` space-separated integers describing the array's elements.<br>\n",
    "\n",
    "#### Output Format\n",
    "\n",
    "Print **3** lines of output in the following order:\n",
    "\n",
    "The first line should be the value of ```Q1```.\n",
    "The second line should be the value of ```Q2``` .\n",
    "The third line should be the value of ```Q3```."
   ]
  },
  {
   "cell_type": "code",
   "execution_count": 47,
   "metadata": {},
   "outputs": [
    {
     "name": "stdout",
     "output_type": "stream",
     "text": [
      "9\n",
      "3 7 8 5 12 14 21 13 18\n",
      "6\n",
      "12\n",
      "16\n"
     ]
    }
   ],
   "source": [
    "# Solution 1\n",
    "import statistics as stat\n",
    "    \n",
    "n = int(input())\n",
    "X = sorted(list(map(int, input().split())))\n",
    "    \n",
    "mid = int(n//2)\n",
    "print(int(stat.median(X[:mid]))) #Q1\n",
    "print(int(stat.median(X))) #Q2\n",
    "print(int(stat.median(X[-mid:]))) #Q3\n"
   ]
  },
  {
   "cell_type": "code",
   "execution_count": 54,
   "metadata": {},
   "outputs": [
    {
     "name": "stdout",
     "output_type": "stream",
     "text": [
      "8\n",
      "3 7 8 5 12 14 21 13\n",
      "[3, 5, 7, 8, 12, 13, 14, 21]\n",
      "4\n",
      "[3, 5, 7, 8]\n",
      "[12, 13, 14, 21]\n",
      "6\n",
      "10\n",
      "13\n"
     ]
    }
   ],
   "source": [
    "#Solution 2\n",
    "def median(x):\n",
    "    if len(x) % 2 == 0:\n",
    "        median = ((x[len(x)//2] + x[len(x)// 2-1]))/2\n",
    "        return(median)\n",
    "    else:\n",
    "        median = x[len(x)//2]\n",
    "        return(median) \n",
    "\n",
    "n = int(input())\n",
    "x = sorted(list(map(int, input().split())))\n",
    "\n",
    "mid = int(n//2)\n",
    "print(int(median(x[:mid])))\n",
    "print(int(median(x)))\n",
    "print(int(median(x[-mid:])))"
   ]
  },
  {
   "cell_type": "markdown",
   "metadata": {},
   "source": [
    "### InterQuartile Range\n",
    "#### Objective\n",
    "In this challenge, we practice calculating the interquartile range. We recommend you complete the Quartiles challenge before attempting this problem.\n",
    "\n",
    "#### Task\n",
    "The interquartile range of an array is the difference between its first (```Q1```) and third (```Q3```) quartiles (i.e.,```Q3```-```Q1``` ).\n",
    "\n",
    "Given an array,```X``` , of  integers and an array,```F``` , representing the respective frequencies of ```X```'s elements, construct a data set, ```S```, where each ```xi``` occurs at frequency ```fi```. Then calculate and print ```S```'s interquartile range, rounded to a scale of  decimal place (i.e., **1** format).\n",
    "\n",
    "Tip: Be careful to not use integer division when averaging the middle two elements for a data set with an even number of elements, and be sure to not include the median in your upper and lower data sets.\n",
    "\n",
    "#### Input Format\n",
    "\n",
    "The first line contains an integer,```n``` , denoting the number of elements in arrays ```X``` and ```F``` .\n",
    "The second line contains ```n``` space-separated integers describing the respective elements of array ```X```.\n",
    "The third line contains ```n``` space-separated integers describing the respective elements of array```F``` .\n",
    "\n",
    "#### Sample input\n",
    "```6```<br>\n",
    "```6 12 8 10 20 16```<br>\n",
    "```5 4 3 2 1 5```<br>"
   ]
  },
  {
   "cell_type": "code",
   "execution_count": 73,
   "metadata": {},
   "outputs": [
    {
     "name": "stdout",
     "output_type": "stream",
     "text": [
      "6\n",
      "6 12 8 10 20 16\n",
      "5 4 3 2 1 5\n",
      "[6, 6, 6, 6, 6, 8, 8, 8, 10, 10, 12, 12, 12, 12, 16, 16, 16, 16, 16, 20]\n",
      "[6, 6, 6, 6, 6, 8, 8, 8, 10, 10]\n",
      "[12, 12, 12, 12, 16, 16, 16, 16, 16, 20]\n",
      "9.0\n"
     ]
    }
   ],
   "source": [
    "import statistics as stat\n",
    "\n",
    "n = int(input())\n",
    "X = list(map(int, input().split()))\n",
    "F = list(map(int, input().split()))\n",
    "\n",
    "s =[]\n",
    "for i in range(n):\n",
    "    s += [X[i]] * F[i]\n",
    "N = sum(F)\n",
    "\n",
    "s.sort()\n",
    "mid = int(N//2)\n",
    "q1 =stat.median(s[:mid])#Q1\n",
    "q3 = stat.median(s[-mid:]) #Q3\n",
    "\n",
    "iqr = q3 - q1\n",
    "print('%.1f' % iqr)\n"
   ]
  },
  {
   "cell_type": "code",
   "execution_count": null,
   "metadata": {},
   "outputs": [],
   "source": []
  }
 ],
 "metadata": {
  "kernelspec": {
   "display_name": "Python 3",
   "language": "python",
   "name": "python3"
  },
  "language_info": {
   "codemirror_mode": {
    "name": "ipython",
    "version": 3
   },
   "file_extension": ".py",
   "mimetype": "text/x-python",
   "name": "python",
   "nbconvert_exporter": "python",
   "pygments_lexer": "ipython3",
   "version": "3.7.4"
  }
 },
 "nbformat": 4,
 "nbformat_minor": 4
}
