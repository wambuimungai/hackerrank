{
 "cells": [
  {
   "cell_type": "markdown",
   "metadata": {},
   "source": [
    "### Day 0: Mean, Median, and Mode\n",
    "####  Objective\n",
    "In this challenge, we practice calculating the mean, median, and mode. Check out the Tutorial tab for learning materials and an instructional video!\n",
    "\n",
    "#### Task\n",
    "Given an array,```X```, of ```N```  integers, calculate and print the respective mean, median, and mode on separate lines. If your array contains more than one modal value, choose the numerically smallest one.\n",
    "\n",
    "Note: Other than the modal value (which will always be an integer), your answers should be in decimal form, rounded to a scale of 1 decimal place (i.e.,**12.3, 7.0**,  format).\n",
    "\n",
    "#### Input Format\n",
    "\n",
    "The first line contains an integer,```N``` , denoting the number of elements in the array.<br>\n",
    "The second line contains ```N``` space-separated integers describing the array's elements.<br>\n",
    "\n",
    "#### Output Format\n",
    "\n",
    "Print  lines of output in the following order:\n",
    "\n",
    "Print the mean on a new line, to a scale of  decimal place (i.e.**12.3, 7.0** ).\n",
    "Print the median on a new line, to a scale of  decimal place (i.e.**12.3, 7.0** ).\n",
    "Print the mode on a new line; if more than one such value exists, print the numerically smallest one\n"
   ]
  },
  {
   "cell_type": "code",
   "execution_count": null,
   "metadata": {},
   "outputs": [],
   "source": [
    "#Solution 1\n",
    "import numpy as np\n",
    "from scipy import stats\n",
    "\n",
    "if __name__ == '__main__':\n",
    "    N = int(input())\n",
    "    X = list(map(int, input().split()))\n",
    "\n",
    "X_mean = np.mean(X)\n",
    "print(X_mean)\n",
    "\n",
    "X_median = np.median(X)\n",
    "print(X_median)\n",
    "\n",
    "X_mode = stats.mode(X)\n",
    "print(int(X_mode[0]))"
   ]
  },
  {
   "cell_type": "code",
   "execution_count": null,
   "metadata": {},
   "outputs": [],
   "source": [
    "#Solution 2\n",
    "from collections import Counter\n",
    "if __name__ == '__main__':\n",
    "    N = int(input())\n",
    "    X = list(map(int, input().split()))\n",
    "#Calculate mean    \n",
    "X_mean = sum(X)/N  \n",
    "print(X_mean)\n",
    "\n",
    "#calculate median\n",
    "\n",
    "if N % 2 == 0: # when the length of the array is even\n",
    "    median1 = X[N//2] # get the middle number\n",
    "    median2 = X[- (N//2 + 1)] #get the second middle number\n",
    "    x_median = (median1 + median2)/2 #calculate the actual value\n",
    "    print(x_median)\n",
    "else:\n",
    "    x_median = median1 = X[N//2]\n",
    "    print(x_median)\n",
    "    \n",
    "#calculate mode\n",
    "X_mode =sorted(sorted(Counter(X).items()), key = lambda x: x[1], reverse = True)[0][0]\n",
    "print(X_mode)"
   ]
  },
  {
   "cell_type": "markdown",
   "metadata": {},
   "source": [
    "### Weighted Mean\n",
    "\n",
    "#### Objective\n",
    "In the previous challenge, we calculated a mean. In this challenge, we practice calculating a weighted mean. Check out the Tutorial tab for learning materials and an instructional video!\n",
    "\n",
    "#### Task\n",
    "Given an array, ```X```, of ```N```  integers and an array,```W``` , representing the respective weights of ```X```'s elements, calculate and print the weighted mean of 's elements. Your answer should be rounded to a scale of 1 decimal place (i.e.,  format).\n",
    "\n",
    "#### Input Format\n",
    "\n",
    "The first line contains an integer, ```N```, denoting the number of elements in arrays ```X``` and ```W``` .<br>\n",
    "The second line contains ```N``` space-separated integers describing the respective elements of array  ```X```.<br>\n",
    "The third line contains ```N``` space-separated integers describing the respective elements of array ```W``` .<br>\n",
    "\n",
    "#### Output Format\n",
    "\n",
    "Print the weighted mean on a new line. Your answer should be rounded to a scale of 1 decimal place (i.e., 12.3 format)."
   ]
  },
  {
   "cell_type": "code",
   "execution_count": 18,
   "metadata": {},
   "outputs": [
    {
     "name": "stdout",
     "output_type": "stream",
     "text": [
      "5\n",
      "10 40 30 50 20\n",
      "1 2 3 4 5\n",
      "32.0\n"
     ]
    }
   ],
   "source": [
    "if __name__ == '__main__':\n",
    "    n = int(input())\n",
    "    x = list(map(int, input().split()))\n",
    "    w = list(map(int, input().split()))\n",
    "\n",
    "#weighted_mean = sum(i * j)/sum(j)\n",
    "product = [i * j for i, j in zip(x, w)]\n",
    "weighted_mean = sum(product)/ sum(w)\n",
    "print('%.1f' % weighted_mean )"
   ]
  },
  {
   "cell_type": "code",
   "execution_count": null,
   "metadata": {},
   "outputs": [],
   "source": []
  }
 ],
 "metadata": {
  "kernelspec": {
   "display_name": "Python 3",
   "language": "python",
   "name": "python3"
  },
  "language_info": {
   "codemirror_mode": {
    "name": "ipython",
    "version": 3
   },
   "file_extension": ".py",
   "mimetype": "text/x-python",
   "name": "python",
   "nbconvert_exporter": "python",
   "pygments_lexer": "ipython3",
   "version": "3.7.4"
  }
 },
 "nbformat": 4,
 "nbformat_minor": 4
}
